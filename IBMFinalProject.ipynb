{
 "cells": [
  {
   "cell_type": "markdown",
   "id": "bd0a5b23-a015-4628-af6a-5ee8b8710d29",
   "metadata": {},
   "source": [
    "Jupyter Notebook Final Assignment"
   ]
  },
  {
   "cell_type": "markdown",
   "id": "48ca3f2c-8705-4f9d-a644-17da2fa1f607",
   "metadata": {},
   "source": [
    "Hello, my name is Matthew Ivezaj. I am very interested in learning more about Data Science. I have a BS in IT and am pursuing an MS in IT with a concentration in Data Science. I thought pursing the IBM Prefessional Certificate along with other certiicates and a couple certifications will assist in getting a job after graduation."
   ]
  },
  {
   "cell_type": "markdown",
   "id": "bc785595-640d-42f7-89b9-c25854cf4c04",
   "metadata": {},
   "source": [
    "A few different languages in Data Science are, Scala, Python, Java, SQL, and R."
   ]
  },
  {
   "cell_type": "markdown",
   "id": "e66bad25-d56b-43dc-b401-b239a844276c",
   "metadata": {},
   "source": [
    "Some Data Science Libraries are:\n",
    "    1. Kera\n",
    "    2. Pandas\n",
    "    3. Apache Spark\n",
    "    4. Seaborn\n",
    "    5. TensorFlow\n",
    "    6. Scikit-Learn"
   ]
  },
  {
   "cell_type": "markdown",
   "id": "4b9a7613-09fd-449e-8323-38b08e6d9438",
   "metadata": {},
   "source": [
    "Data Science Tools\n",
    "-----------------\n",
    "R Studio\n",
    "Anaconda\n",
    "Jupyter Notebook\n",
    "Spyder"
   ]
  },
  {
   "cell_type": "markdown",
   "id": "5ea1200f-9774-4c83-a4fd-664259257c25",
   "metadata": {},
   "source": [
    "Here is a math expression written in JupyterLab,\n",
    "6 + 9"
   ]
  },
  {
   "cell_type": "code",
   "execution_count": null,
   "id": "4df6a515-4e3e-404e-bc11-bf162ac7ea54",
   "metadata": {},
   "outputs": [],
   "source": [
    "(4+6) * (9+11)"
   ]
  },
  {
   "cell_type": "markdown",
   "id": "bb27937d-da82-4e7f-84f5-c5d3cd5ce01a",
   "metadata": {},
   "source": [
    "Here is some code that will convert 122 minutes into hours:\n",
    "122/60"
   ]
  },
  {
   "cell_type": "markdown",
   "id": "3afaf722-ec87-4cf6-83d5-19d57c11abb6",
   "metadata": {},
   "source": [
    "Here is a set of things I want to prepare for a job in Data Science.\n",
    "1. Objectives\n",
    "    - Finish this certificate program.\n",
    "    - Obtain a certification.\n",
    "    - Complete my MS in IT with a concentration in Data Science.\n",
    "    - Obtain a job in the field of Data Science."
   ]
  },
  {
   "cell_type": "markdown",
   "id": "018ef936-2b58-4824-9093-a2a124bc172e",
   "metadata": {},
   "source": [
    "## Level 2 Heading\n",
    "Matthew Ivezaj"
   ]
  }
 ],
 "metadata": {
  "kernelspec": {
   "display_name": "Python",
   "language": "python",
   "name": "conda-env-python-py"
  },
  "language_info": {
   "codemirror_mode": {
    "name": "ipython",
    "version": 3
   },
   "file_extension": ".py",
   "mimetype": "text/x-python",
   "name": "python",
   "nbconvert_exporter": "python",
   "pygments_lexer": "ipython3",
   "version": "3.7.12"
  }
 },
 "nbformat": 4,
 "nbformat_minor": 5
}
