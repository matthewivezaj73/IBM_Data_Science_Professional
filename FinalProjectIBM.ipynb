{
 "cells": [
  {
   "cell_type": "code",
   "execution_count": null,
   "id": "c5b5d5e1-c0e9-44a3-beaa-62238d12db20",
   "metadata": {},
   "outputs": [],
   "source": [
    "\"Jupyter_Notebook\""
   ]
  },
  {
   "cell_type": "code",
   "execution_count": null,
   "id": "bafc0a79-2450-492a-96f1-66e113c3b1da",
   "metadata": {},
   "outputs": [],
   "source": [
    "**My name is Matthew Ivezaj and I love data science.**"
   ]
  },
  {
   "cell_type": "code",
   "execution_count": null,
   "id": "73da154a-4468-446f-8e23-6d12d0f467f2",
   "metadata": {},
   "outputs": [],
   "source": [
    "1. Python\n",
    "2. SQL\n",
    "3. Java\n",
    "4. Scala"
   ]
  },
  {
   "cell_type": "code",
   "execution_count": null,
   "id": "c3b7fb37-1f6b-459b-b81e-1a1c7ecb5f4c",
   "metadata": {},
   "outputs": [],
   "source": [
    "1. Scikit Learn\n",
    "2. Numpy\n",
    "3. Django\n",
    "4. Pandas"
   ]
  },
  {
   "cell_type": "code",
   "execution_count": null,
   "id": "4a0ceb6a-dede-41b4-89c5-811cdc110e95",
   "metadata": {},
   "outputs": [],
   "source": [
    "IBM Watson Studio \n",
    "IBM SPSS\n",
    "SPSS Modeler \n",
    "SAS Enterprise Miner"
   ]
  },
  {
   "cell_type": "code",
   "execution_count": null,
   "id": "08d12ada-90ac-4bd0-a0e1-8b9b21e5fa6e",
   "metadata": {},
   "outputs": [],
   "source": [
    "3 + 4"
   ]
  },
  {
   "cell_type": "code",
   "execution_count": null,
   "id": "6a7c50ad-e456-45ee-8044-3ab9172be1a4",
   "metadata": {},
   "outputs": [],
   "source": [
    "3 * 5\n",
    "1 + 12"
   ]
  },
  {
   "cell_type": "code",
   "execution_count": null,
   "id": "22b18912-2b44-4932-82bb-75e7fd43a35b",
   "metadata": {},
   "outputs": [],
   "source": [
    "133/60"
   ]
  },
  {
   "cell_type": "code",
   "execution_count": null,
   "id": "34e1c1e3-d174-43bd-84a2-421cff7e52a3",
   "metadata": {},
   "outputs": [],
   "source": [
    "- Complete Data Science Tools\n",
    "- Obtain the Data Science Professional Certificate\n",
    "- Finish my MS\n",
    "- Get a Job in Data Science"
   ]
  },
  {
   "cell_type": "code",
   "execution_count": null,
   "id": "913afc8b-254b-4254-84da-e26536472301",
   "metadata": {},
   "outputs": [],
   "source": [
    "Matthew Ivezaj"
   ]
  },
  {
   "cell_type": "code",
   "execution_count": null,
   "id": "28f4eafb-0aa6-4ffc-b3cd-7fca5624bb52",
   "metadata": {},
   "outputs": [],
   "source": []
  },
  {
   "cell_type": "code",
   "execution_count": null,
   "id": "a1579a9c-1f7f-488f-8aa1-461ca8d5e34a",
   "metadata": {},
   "outputs": [],
   "source": []
  },
  {
   "cell_type": "code",
   "execution_count": null,
   "id": "e0e6bc8b-1b00-4af9-9055-3da66325ea89",
   "metadata": {},
   "outputs": [],
   "source": []
  },
  {
   "cell_type": "code",
   "execution_count": null,
   "id": "e32916df-a2fc-4f92-b527-c340fa2d3e42",
   "metadata": {},
   "outputs": [],
   "source": []
  },
  {
   "cell_type": "code",
   "execution_count": null,
   "id": "5bb10648-c61c-4daf-994b-9db00a7b7713",
   "metadata": {},
   "outputs": [],
   "source": []
  },
  {
   "cell_type": "code",
   "execution_count": null,
   "id": "4b8f7867-f86b-4ff6-b77b-17caff45effc",
   "metadata": {},
   "outputs": [],
   "source": []
  }
 ],
 "metadata": {
  "kernelspec": {
   "display_name": "Python",
   "language": "python",
   "name": "conda-env-python-py"
  },
  "language_info": {
   "codemirror_mode": {
    "name": "ipython",
    "version": 3
   },
   "file_extension": ".py",
   "mimetype": "text/x-python",
   "name": "python",
   "nbconvert_exporter": "python",
   "pygments_lexer": "ipython3",
   "version": "3.7.12"
  }
 },
 "nbformat": 4,
 "nbformat_minor": 5
}
